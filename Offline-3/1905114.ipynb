{
 "cells": [
  {
   "cell_type": "code",
   "execution_count": 25,
   "metadata": {},
   "outputs": [],
   "source": [
    "from torchvision import datasets, transforms\n",
    "\n",
    "# Define transformation\n",
    "transform = transforms.ToTensor()\n",
    "\n",
    "# Load the training dataset\n",
    "train_dataset = datasets.FashionMNIST(root='./data', train=True, transform=transform, download=True)\n",
    "\n",
    "# Load the test dataset separately\n",
    "test_dataset = datasets.FashionMNIST(root='./data', train=False, transform=transform, download=True)"
   ]
  },
  {
   "cell_type": "code",
   "execution_count": 26,
   "metadata": {},
   "outputs": [],
   "source": [
    "# 1.Dense Layer\n",
    "# 2.Normalization: Batch Normalization\n",
    "# 3.Activation: ReLU\n",
    "# 4.Regularization: Dropout\n",
    "# 5.Optimization: Adaptive Moment Estimation (Adam)\n",
    "# 6.Regression: Softmax for Multi-class Classification"
   ]
  },
  {
   "cell_type": "code",
   "execution_count": 27,
   "metadata": {},
   "outputs": [],
   "source": [
    "import torch\n",
    "from torchvision import datasets, transforms\n",
    "import tensorflow as tf\n",
    "from tensorflow.keras import layers, models\n",
    "import pickle\n",
    "from tqdm import tqdm"
   ]
  },
  {
   "cell_type": "code",
   "execution_count": 28,
   "metadata": {},
   "outputs": [],
   "source": [
    "# Convert datasets to NumPy arrays for TensorFlow\n",
    "x_train = train_dataset.data.numpy().astype('float32') / 255.0\n",
    "y_train = train_dataset.targets.numpy()\n",
    "x_test = test_dataset.data.numpy().astype('float32') / 255.0\n",
    "y_test = test_dataset.targets.numpy()\n",
    "\n",
    "# Flatten the images (28x28 -> 784)\n",
    "x_train = x_train.reshape(-1, 28 * 28)\n",
    "x_test = x_test.reshape(-1, 28 * 28)\n",
    "\n",
    "# Hyperparameters\n",
    "hidden_size = 256\n",
    "num_classes = 10\n",
    "batch_size = 64\n",
    "learning_rate = 0.001\n",
    "num_epochs = 10\n",
    "dropout_rate = 0.5\n",
    "\n"
   ]
  },
  {
   "cell_type": "code",
   "execution_count": 29,
   "metadata": {},
   "outputs": [],
   "source": [
    "\n",
    "import numpy as np\n",
    "\n",
    "# 1. Dense Layer\n",
    "class Dense:\n",
    "    def __init__(self, input_size, output_size):\n",
    "        self.weights = np.random.randn(input_size, output_size) * 0.01\n",
    "        self.bias = np.zeros((1, output_size))\n",
    "\n",
    "    def forward(self, X):\n",
    "        self.input = X\n",
    "        self.output = np.dot(X, self.weights) + self.bias\n",
    "        return self.output\n",
    "\n",
    "    def backward(self, d_output, learning_rate):\n",
    "        d_weights = np.dot(self.input.T, d_output)\n",
    "        d_bias = np.sum(d_output, axis=0, keepdims=True)\n",
    "        d_input = np.dot(d_output, self.weights.T)\n",
    "        \n",
    "        # Update weights and bias\n",
    "        self.weights -= learning_rate * d_weights\n",
    "        self.bias -= learning_rate * d_bias\n",
    "        return d_input\n",
    "\n",
    "\n",
    "# 2. Batch Normalization\n",
    "class BatchNormalization:\n",
    "    def __init__(self, size, epsilon=1e-5, momentum=0.9):\n",
    "        self.gamma = np.ones((1, size))\n",
    "        self.beta = np.zeros((1, size))\n",
    "        self.epsilon = epsilon\n",
    "        self.momentum = momentum\n",
    "        self.running_mean = np.zeros((1, size))\n",
    "        self.running_var = np.zeros((1, size))\n",
    "\n",
    "    def forward(self, X, training=True):\n",
    "        if training:\n",
    "            mean = np.mean(X, axis=0)\n",
    "            var = np.var(X, axis=0)\n",
    "            self.X_centered = X - mean\n",
    "            self.std_inv = 1.0 / np.sqrt(var + self.epsilon)\n",
    "            self.X_norm = self.X_centered * self.std_inv\n",
    "            self.output = self.gamma * self.X_norm + self.beta\n",
    "\n",
    "            # Update running mean and variance\n",
    "            self.running_mean = self.momentum * self.running_mean + (1 - self.momentum) * mean\n",
    "            self.running_var = self.momentum * self.running_var + (1 - self.momentum) * var\n",
    "        else:\n",
    "            self.X_norm = (X - self.running_mean) / np.sqrt(self.running_var + self.epsilon)\n",
    "            self.output = self.gamma * self.X_norm + self.beta\n",
    "        return self.output\n",
    "\n",
    "    def backward(self, d_output, learning_rate):\n",
    "        m = d_output.shape[0]\n",
    "        d_gamma = np.sum(d_output * self.X_norm, axis=0)\n",
    "        d_beta = np.sum(d_output, axis=0)\n",
    "        d_X_norm = d_output * self.gamma\n",
    "        d_var = np.sum(d_X_norm * self.X_centered, axis=0) * -0.5 * self.std_inv**3\n",
    "        d_mean = np.sum(d_X_norm * -self.std_inv, axis=0) + d_var * np.mean(-2 * self.X_centered, axis=0)\n",
    "        d_input = (d_X_norm * self.std_inv) + (d_var * 2 * self.X_centered / m) + (d_mean / m)\n",
    "\n",
    "        # Update gamma and beta\n",
    "        self.gamma -= learning_rate * d_gamma\n",
    "        self.beta -= learning_rate * d_beta\n",
    "        return d_input\n",
    "\n",
    "\n",
    "# 3. ReLU Activation\n",
    "class ReLU:\n",
    "    def forward(self, X):\n",
    "        self.input = X\n",
    "        return np.maximum(0, X)\n",
    "\n",
    "    def backward(self, d_output):\n",
    "        return d_output * (self.input > 0)\n",
    "\n",
    "\n",
    "# 4. Dropout\n",
    "class Dropout:\n",
    "    def __init__(self, dropout_rate):\n",
    "        self.dropout_rate = dropout_rate\n",
    "\n",
    "    def forward(self, X, training=True):\n",
    "        if training:\n",
    "            self.mask = np.random.binomial(1, 1 - self.dropout_rate, size=X.shape)\n",
    "            return X * self.mask * (1.0 / (1 - self.dropout_rate))\n",
    "        return X\n",
    "\n",
    "    def backward(self, d_output):\n",
    "        return d_output * self.mask\n",
    "\n",
    "\n",
    "# 5. Adam Optimizer\n",
    "class Adam:\n",
    "    def __init__(self, params, learning_rate=0.001, beta1=0.9, beta2=0.999, epsilon=1e-8):\n",
    "        self.params = params\n",
    "        self.learning_rate = learning_rate\n",
    "        self.beta1 = beta1\n",
    "        self.beta2 = beta2\n",
    "        self.epsilon = epsilon\n",
    "        self.m = [np.zeros_like(p) for p in params]\n",
    "        self.v = [np.zeros_like(p) for p in params]\n",
    "        self.t = 0\n",
    "\n",
    "    def update(self, grads):\n",
    "        self.t += 1\n",
    "        updated_params = []\n",
    "        \n",
    "        for i, (param, grad) in enumerate(zip(self.params, grads)):\n",
    "            self.m[i] = self.beta1 * self.m[i] + (1 - self.beta1) * grad\n",
    "            self.v[i] = self.beta2 * self.v[i] + (1 - self.beta2) * (grad**2)\n",
    "            \n",
    "            m_hat = self.m[i] / (1 - self.beta1**self.t)\n",
    "            v_hat = self.v[i] / (1 - self.beta2**self.t)\n",
    "            \n",
    "            param_update = self.learning_rate * m_hat / (np.sqrt(v_hat) + self.epsilon)\n",
    "            param -= param_update\n",
    "            updated_params.append(param)\n",
    "        \n",
    "        return updated_params\n",
    "\n",
    "\n",
    "# 6. Softmax for Multi-class Classification\n",
    "class Softmax:\n",
    "    def forward(self, X):\n",
    "        exps = np.exp(X - np.max(X, axis=1, keepdims=True))\n",
    "        return exps / np.sum(exps, axis=1, keepdims=True)\n",
    "\n",
    "    def backward(self, d_output, y_true):\n",
    "        m = y_true.shape[0]\n",
    "        d_output[range(m), y_true] -= 1\n",
    "        return d_output / m\n"
   ]
  },
  {
   "cell_type": "code",
   "execution_count": 30,
   "metadata": {},
   "outputs": [
    {
     "data": {
      "text/plain": [
       "\"\\n# Build the model\\nmodel = models.Sequential([\\n    layers.Input(shape=(28 * 28,)),\\n    layers.BatchNormalization(),\\n    layers.Dense(hidden_size, activation='relu'),\\n    layers.Dropout(dropout_rate),\\n    layers.Dense(num_classes, activation='softmax')\\n])\\n\\n# Compile the model\\nmodel.compile(optimizer=tf.keras.optimizers.Adam(learning_rate=learning_rate),\\n              loss='sparse_categorical_crossentropy',\\n              metrics=['accuracy'])\\n\\n# Training loop with tqdm for progress tracking\\nfor epoch in range(num_epochs):\\n    print(f'Epoch {epoch + 1}/{num_epochs}')\\n    model.fit(x_train, y_train, batch_size=batch_size, epochs=1, verbose=1)\\n\\n# Model evaluation\\ntest_loss, test_accuracy = model.evaluate(x_test, y_test, verbose=2)\\nprint(f'Accuracy of the model on the test set: {test_accuracy * 100:.2f}%')\\n\\n# Save the trained model\\nmodel.save('fnn_fashionmnist.h5')\\n\""
      ]
     },
     "execution_count": 30,
     "metadata": {},
     "output_type": "execute_result"
    }
   ],
   "source": [
    "\"\"\"\n",
    "# Build the model\n",
    "model = models.Sequential([\n",
    "    layers.Input(shape=(28 * 28,)),\n",
    "    layers.BatchNormalization(),\n",
    "    layers.Dense(hidden_size, activation='relu'),\n",
    "    layers.Dropout(dropout_rate),\n",
    "    layers.Dense(num_classes, activation='softmax')\n",
    "])\n",
    "\n",
    "# Compile the model\n",
    "model.compile(optimizer=tf.keras.optimizers.Adam(learning_rate=learning_rate),\n",
    "              loss='sparse_categorical_crossentropy',\n",
    "              metrics=['accuracy'])\n",
    "\n",
    "# Training loop with tqdm for progress tracking\n",
    "for epoch in range(num_epochs):\n",
    "    print(f'Epoch {epoch + 1}/{num_epochs}')\n",
    "    model.fit(x_train, y_train, batch_size=batch_size, epochs=1, verbose=1)\n",
    "\n",
    "# Model evaluation\n",
    "test_loss, test_accuracy = model.evaluate(x_test, y_test, verbose=2)\n",
    "print(f'Accuracy of the model on the test set: {test_accuracy * 100:.2f}%')\n",
    "\n",
    "# Save the trained model\n",
    "model.save('fnn_fashionmnist.h5')\n",
    "\"\"\""
   ]
  },
  {
   "cell_type": "code",
   "execution_count": 31,
   "metadata": {},
   "outputs": [],
   "source": [
    "# Cross-Entropy Loss function\n",
    "def cross_entropy_loss(y_true, y_pred):\n",
    "    m = y_true.shape[0]\n",
    "    log_likelihood = -np.log(y_pred[range(m), y_true])\n",
    "    loss = np.sum(log_likelihood) / m\n",
    "    return loss\n",
    "\n",
    "# Accuracy function\n",
    "def accuracy(y_true, y_pred):\n",
    "    return np.mean(y_true == y_pred)\n"
   ]
  },
  {
   "cell_type": "code",
   "execution_count": 32,
   "metadata": {},
   "outputs": [
    {
     "name": "stderr",
     "output_type": "stream",
     "text": [
      "Epoch 1/10: 100%|██████████| 938/938 [00:14<00:00, 63.97it/s]\n"
     ]
    },
    {
     "name": "stdout",
     "output_type": "stream",
     "text": [
      "Epoch 1/10, Loss: 2.3026, Accuracy: 9.88%\n"
     ]
    },
    {
     "name": "stderr",
     "output_type": "stream",
     "text": [
      "Epoch 2/10: 100%|██████████| 938/938 [00:14<00:00, 63.87it/s]\n"
     ]
    },
    {
     "name": "stdout",
     "output_type": "stream",
     "text": [
      "Epoch 2/10, Loss: 2.3026, Accuracy: 9.96%\n"
     ]
    },
    {
     "name": "stderr",
     "output_type": "stream",
     "text": [
      "Epoch 3/10: 100%|██████████| 938/938 [00:22<00:00, 42.48it/s]\n"
     ]
    },
    {
     "name": "stdout",
     "output_type": "stream",
     "text": [
      "Epoch 3/10, Loss: 2.3026, Accuracy: 9.96%\n"
     ]
    },
    {
     "name": "stderr",
     "output_type": "stream",
     "text": [
      "Epoch 4/10: 100%|██████████| 938/938 [00:14<00:00, 63.10it/s]\n"
     ]
    },
    {
     "name": "stdout",
     "output_type": "stream",
     "text": [
      "Epoch 4/10, Loss: 2.3026, Accuracy: 9.89%\n"
     ]
    },
    {
     "name": "stderr",
     "output_type": "stream",
     "text": [
      "Epoch 5/10: 100%|██████████| 938/938 [00:16<00:00, 56.09it/s]\n"
     ]
    },
    {
     "name": "stdout",
     "output_type": "stream",
     "text": [
      "Epoch 5/10, Loss: 2.3026, Accuracy: 10.11%\n"
     ]
    },
    {
     "name": "stderr",
     "output_type": "stream",
     "text": [
      "Epoch 6/10: 100%|██████████| 938/938 [00:14<00:00, 65.57it/s]\n"
     ]
    },
    {
     "name": "stdout",
     "output_type": "stream",
     "text": [
      "Epoch 6/10, Loss: 2.3026, Accuracy: 9.98%\n"
     ]
    },
    {
     "name": "stderr",
     "output_type": "stream",
     "text": [
      "Epoch 7/10: 100%|██████████| 938/938 [00:14<00:00, 63.24it/s]\n"
     ]
    },
    {
     "name": "stdout",
     "output_type": "stream",
     "text": [
      "Epoch 7/10, Loss: 2.3026, Accuracy: 10.00%\n"
     ]
    },
    {
     "name": "stderr",
     "output_type": "stream",
     "text": [
      "Epoch 8/10: 100%|██████████| 938/938 [00:17<00:00, 53.58it/s]\n"
     ]
    },
    {
     "name": "stdout",
     "output_type": "stream",
     "text": [
      "Epoch 8/10, Loss: 2.3026, Accuracy: 10.00%\n"
     ]
    },
    {
     "name": "stderr",
     "output_type": "stream",
     "text": [
      "Epoch 9/10: 100%|██████████| 938/938 [00:15<00:00, 58.87it/s]\n"
     ]
    },
    {
     "name": "stdout",
     "output_type": "stream",
     "text": [
      "Epoch 9/10, Loss: 2.3026, Accuracy: 10.00%\n"
     ]
    },
    {
     "name": "stderr",
     "output_type": "stream",
     "text": [
      "Epoch 10/10: 100%|██████████| 938/938 [00:15<00:00, 60.22it/s]\n"
     ]
    },
    {
     "name": "stdout",
     "output_type": "stream",
     "text": [
      "Epoch 10/10, Loss: 2.3026, Accuracy: 10.00%\n",
      "Test set accuracy: 10.00%\n"
     ]
    }
   ],
   "source": [
    "\n",
    "# Hyperparameters\n",
    "input_size = 28 * 28\n",
    "hidden_size = 256\n",
    "num_classes = 10\n",
    "batch_size = 64\n",
    "learning_rate = 0.001\n",
    "num_epochs = 10\n",
    "dropout_rate = 0.5\n",
    "\n",
    "\n",
    "# Initialize layers\n",
    "dense1 = Dense(input_size, hidden_size)\n",
    "batch_norm1 = BatchNormalization(hidden_size)\n",
    "relu = ReLU()\n",
    "dropout = Dropout(dropout_rate)\n",
    "dense2 = Dense(hidden_size, num_classes)\n",
    "softmax = Softmax()\n",
    "\n",
    "# Initialize optimizer\n",
    "params = [dense1.weights, dense1.bias, batch_norm1.gamma, batch_norm1.beta, dense2.weights, dense2.bias]\n",
    "optimizer = Adam(params, learning_rate=learning_rate)\n",
    "\n",
    "# Forward and backward pass for one batch\n",
    "def forward_pass(X, training=True):\n",
    "    out = dense1.forward(X)\n",
    "    out = batch_norm1.forward(out, training)\n",
    "    out = relu.forward(out)\n",
    "    out = dropout.forward(out, training)\n",
    "    out = dense2.forward(out)\n",
    "    out = softmax.forward(out)\n",
    "    return out\n",
    "\n",
    "# Compute loss and accuracy function\n",
    "def compute_loss_and_accuracy(X, y):\n",
    "    logits = forward_pass(X, training=False)\n",
    "    loss = cross_entropy_loss(y, logits)\n",
    "    predictions = np.argmax(logits, axis=1)\n",
    "    acc = accuracy(y, predictions)  # Renamed 'accuracy' variable to 'acc' to avoid conflict\n",
    "    return loss, acc\n",
    "\n",
    "# Training loop\n",
    "for epoch in range(num_epochs):\n",
    "    permutation = np.random.permutation(x_train.shape[0])\n",
    "    x_train_shuffled = x_train[permutation]\n",
    "    y_train_shuffled = y_train[permutation]\n",
    "    \n",
    "    epoch_loss = 0\n",
    "    epoch_accuracy = 0\n",
    "    for i in tqdm(range(0, x_train.shape[0], batch_size), desc=f\"Epoch {epoch + 1}/{num_epochs}\"):\n",
    "        X_batch = x_train_shuffled[i:i + batch_size]\n",
    "        y_batch = y_train_shuffled[i:i + batch_size]\n",
    "        \n",
    "        # Forward pass\n",
    "        logits = forward_pass(X_batch)\n",
    "        \n",
    "        # Loss calculation\n",
    "        loss = cross_entropy_loss(y_batch, logits)\n",
    "        epoch_loss += loss * X_batch.shape[0]\n",
    "        \n",
    "        # Calculate accuracy\n",
    "        predictions = np.argmax(logits, axis=1)\n",
    "        batch_accuracy = accuracy(y_batch, predictions)\n",
    "        epoch_accuracy += batch_accuracy * X_batch.shape[0]\n",
    "        \n",
    "        # Backward pass\n",
    "        d_logits = softmax.backward(logits, y_batch)\n",
    "        d_out = dense2.backward(d_logits, learning_rate=0)  # Pass gradients, no lr as Adam will update it\n",
    "        \n",
    "        d_out = dropout.backward(d_out)\n",
    "        d_out = relu.backward(d_out)\n",
    "        \n",
    "        d_out = batch_norm1.backward(d_out, learning_rate=0)\n",
    "        dense1.backward(d_out, learning_rate=0)  # Use learning_rate=0 here as Adam handles it\n",
    "        \n",
    "        # Update parameters using Adam\n",
    "        grads = [dense1.weights, dense1.bias, batch_norm1.gamma, batch_norm1.beta, dense2.weights, dense2.bias]\n",
    "        optimizer.update(grads)\n",
    "    \n",
    "    epoch_loss /= x_train.shape[0]\n",
    "    epoch_accuracy /= x_train.shape[0]\n",
    "    \n",
    "    print(f\"Epoch {epoch + 1}/{num_epochs}, Loss: {epoch_loss:.4f}, Accuracy: {epoch_accuracy * 100:.2f}%\")\n",
    "\n",
    "# Model evaluation on the test set\n",
    "test_loss, test_accuracy = compute_loss_and_accuracy(x_test, y_test)\n",
    "print(f\"Test set accuracy: {test_accuracy * 100:.2f}%\")"
   ]
  },
  {
   "cell_type": "code",
   "execution_count": 33,
   "metadata": {},
   "outputs": [],
   "source": [
    "# Save the trained model weights using pickle\n",
    "model_weights = model.get_weights()  # Get the model weights\n",
    "with open('fnn_fashionmnist_weights.pkl', 'wb') as f:\n",
    "    pickle.dump(model_weights, f)\n",
    "\n",
    "# To load the weights back into the model later\n",
    "with open('fnn_fashionmnist_weights.pkl', 'rb') as f:\n",
    "    loaded_weights = pickle.load(f)\n",
    "\n",
    "model.set_weights(loaded_weights)  # Load the weights back into the model"
   ]
  },
  {
   "cell_type": "code",
   "execution_count": 34,
   "metadata": {},
   "outputs": [
    {
     "name": "stdout",
     "output_type": "stream",
     "text": [
      "\u001b[1m313/313\u001b[0m \u001b[32m━━━━━━━━━━━━━━━━━━━━\u001b[0m\u001b[37m\u001b[0m \u001b[1m1s\u001b[0m 3ms/step\n",
      "313/313 - 1s - 2ms/step - accuracy: 0.8635 - loss: 0.3728\n",
      "Accuracy of the model on the test set: 86.35%\n",
      "Correct predictions: 8635/10000\n"
     ]
    }
   ],
   "source": [
    "import numpy as np\n",
    "\n",
    "# Run inference on the test data\n",
    "predictions = model.predict(x_test)\n",
    "\n",
    "# Get the predicted classes\n",
    "predicted_classes = np.argmax(predictions, axis=1)\n",
    "\n",
    "# Evaluate the model's performance on the test data\n",
    "test_loss, test_accuracy = model.evaluate(x_test, y_test, verbose=2)\n",
    "print(f'Accuracy of the model on the test set: {test_accuracy * 100:.2f}%')\n",
    "\n",
    "# Optionally, compare predicted classes with true labels\n",
    "correct_predictions = np.sum(predicted_classes == y_test)\n",
    "total_predictions = y_test.shape[0]\n",
    "print(f'Correct predictions: {correct_predictions}/{total_predictions}')"
   ]
  }
 ],
 "metadata": {
  "kernelspec": {
   "display_name": "Python 3",
   "language": "python",
   "name": "python3"
  },
  "language_info": {
   "codemirror_mode": {
    "name": "ipython",
    "version": 3
   },
   "file_extension": ".py",
   "mimetype": "text/x-python",
   "name": "python",
   "nbconvert_exporter": "python",
   "pygments_lexer": "ipython3",
   "version": "3.12.5"
  }
 },
 "nbformat": 4,
 "nbformat_minor": 2
}
