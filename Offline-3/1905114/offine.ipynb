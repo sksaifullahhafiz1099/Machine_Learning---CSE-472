{
 "cells": [
  {
   "cell_type": "code",
   "execution_count": 172,
   "metadata": {},
   "outputs": [],
   "source": [
    "import numpy as np\n",
    "\n",
    "class DenseLayer:\n",
    "    def __init__(self, input_dim, output_dim):\n",
    "        self.weights = np.random.randn(input_dim, output_dim) * 0.01\n",
    "        self.bias = np.zeros((1, output_dim))\n",
    "        self.input = None\n",
    "        self.d_weights = None\n",
    "        self.d_bias = None  \n",
    "\n",
    "    def forward(self, X):\n",
    "        self.input = X\n",
    "        return np.dot(X, self.weights) + self.bias\n",
    "\n",
    "    def backward(self, d_out, learning_rate):\n",
    "        self.d_weights = np.dot(self.input.T, d_out)\n",
    "        self.d_bias = np.sum(d_out, axis=0, keepdims=True)\n",
    "        d_input = np.dot(d_out, self.weights.T)\n",
    "        return d_input"
   ]
  },
  {
   "cell_type": "code",
   "execution_count": 173,
   "metadata": {},
   "outputs": [],
   "source": [
    "class ReLU:\n",
    "    def forward(self, X):\n",
    "        self.input = X\n",
    "        return np.maximum(0, X)\n",
    "\n",
    "    def backward(self, d_out):\n",
    "        return d_out * (self.input > 0)"
   ]
  },
  {
   "cell_type": "code",
   "execution_count": 174,
   "metadata": {},
   "outputs": [],
   "source": [
    "class BatchNormalization:\n",
    "    def __init__(self, dim, epsilon=1e-5, momentum=0.9):\n",
    "        self.gamma = np.ones(dim)\n",
    "        self.beta = np.zeros(dim)\n",
    "        self.epsilon = epsilon\n",
    "        self.momentum = momentum\n",
    "        self.running_mean = np.zeros(dim)\n",
    "        self.running_var = np.zeros(dim)\n",
    "        self.input = None\n",
    "\n",
    "    def forward(self, X, training=True):\n",
    "        if training:\n",
    "            self.mean = np.mean(X, axis=0)\n",
    "            self.var = np.var(X, axis=0)\n",
    "            self.input = X\n",
    "\n",
    "            self.X_norm = (X - self.mean) / np.sqrt(self.var + self.epsilon)\n",
    "            out = self.gamma * self.X_norm + self.beta\n",
    "\n",
    "            self.running_mean = self.momentum * self.running_mean + (1 - self.momentum) * self.mean\n",
    "            self.running_var = self.momentum * self.running_var + (1 - self.momentum) * self.var\n",
    "        else:\n",
    "            X_norm = (X - self.running_mean) / np.sqrt(self.running_var + self.epsilon)\n",
    "            out = self.gamma * X_norm + self.beta\n",
    "        \n",
    "        return out\n",
    "\n",
    "    def backward(self, d_out, learning_rate):\n",
    "        N, D = d_out.shape\n",
    "\n",
    "        X_mu = self.input - self.mean\n",
    "        std_inv = 1. / np.sqrt(self.var + self.epsilon)\n",
    "\n",
    "        dX_norm = d_out * self.gamma\n",
    "        dvar = np.sum(dX_norm * X_mu, axis=0) * -0.5 * std_inv**3\n",
    "        dmean = np.sum(dX_norm * -std_inv, axis=0) + dvar * np.mean(-2. * X_mu, axis=0)\n",
    "\n",
    "        dX = (dX_norm * std_inv) + (dvar * 2 * X_mu / N) + (dmean / N)\n",
    "        self.gamma -= learning_rate * np.sum(d_out * self.X_norm, axis=0)\n",
    "        self.beta -= learning_rate * np.sum(d_out, axis=0)\n",
    "        \n",
    "        return dX\n"
   ]
  },
  {
   "cell_type": "code",
   "execution_count": 175,
   "metadata": {},
   "outputs": [],
   "source": [
    "class Dropout:\n",
    "    def __init__(self, dropout_rate):\n",
    "        self.dropout_rate = dropout_rate\n",
    "\n",
    "    def forward(self, X, training=True):\n",
    "        if training:\n",
    "            self.mask = np.random.rand(*X.shape) > self.dropout_rate\n",
    "            return X * self.mask / (1 - self.dropout_rate)\n",
    "        else:\n",
    "            return X\n",
    "\n",
    "    def backward(self, d_out):\n",
    "        return d_out * self.mask / (1 - self.dropout_rate)\n"
   ]
  },
  {
   "cell_type": "code",
   "execution_count": 176,
   "metadata": {},
   "outputs": [],
   "source": [
    "class AdamOptimizer:\n",
    "    def __init__(self, learning_rate, beta1=0.9, beta2=0.999, epsilon=1e-8):\n",
    "        self.learning_rate = learning_rate\n",
    "        self.beta1 = beta1\n",
    "        self.beta2 = beta2\n",
    "        self.epsilon = epsilon\n",
    "        self.m = {}\n",
    "        self.v = {}\n",
    "        self.t = 0\n",
    "\n",
    "    def update(self, params, grads):\n",
    "        self.t += 1\n",
    "        updated_params = {}\n",
    "\n",
    "        for key in params:\n",
    "            if key not in self.m:\n",
    "                self.m[key] = [np.zeros_like(grads[key][0]),np.zeros_like(grads[key][1])]\n",
    "                self.v[key] = [np.zeros_like(grads[key][0]),np.zeros_like(grads[key][1])]\n",
    "\n",
    "            self.m[key][0] = self.beta1 * self.m[key][0] + (1 - self.beta1) * grads[key][0]\n",
    "            self.m[key][1] = self.beta1 * self.m[key][1] + (1 - self.beta1) * grads[key][1]\n",
    "\n",
    "            self.v[key][0] = self.beta2 * self.v[key][0] + (1 - self.beta2) * (grads[key][0] ** 2)\n",
    "            self.v[key][1] = self.beta2 * self.v[key][1] + (1 - self.beta2) * (grads[key][1] ** 2)\n",
    "\n",
    "            m_hat_weights = self.m[key][0] / (1 - self.beta1 ** self.t)\n",
    "            m_hat_bias = self.m[key][1] / (1 - self.beta1 ** self.t)\n",
    "            v_hat_weights = self.v[key][0] / (1 - self.beta2 ** self.t)\n",
    "            v_hat_bias = self.v[key][1] / (1 - self.beta2 ** self.t)\n",
    "\n",
    "            updated_params[key] =[params[key][0] - self.learning_rate * m_hat_weights / (np.sqrt(v_hat_weights) + self.epsilon),\n",
    "                                    params[key][1] - self.learning_rate * m_hat_bias / (np.sqrt(v_hat_bias) + self.epsilon)]\n",
    "\n",
    "        return updated_params\n",
    "\n"
   ]
  },
  {
   "cell_type": "code",
   "execution_count": 177,
   "metadata": {},
   "outputs": [],
   "source": [
    "class Softmax:\n",
    "    def forward(self, X):\n",
    "        exps = np.exp(X - np.max(X, axis=1, keepdims=True))\n",
    "        self.output = exps / np.sum(exps, axis=1, keepdims=True)\n",
    "        return self.output\n",
    "\n",
    "    def backward(self, d_out):\n",
    "        return self.output * (d_out - np.sum(d_out * self.output, axis=1, keepdims=True))\n"
   ]
  },
  {
   "cell_type": "code",
   "execution_count": 178,
   "metadata": {},
   "outputs": [],
   "source": [
    "class FeedForwardNeuralNetwork:\n",
    "    def __init__(self, input_dim, hidden_dims, output_dim, dropout_rate):\n",
    "        self.layers = []\n",
    "        \n",
    "        # Adding first Dense layer\n",
    "        prev_dim = input_dim\n",
    "        for hidden_dim in hidden_dims:\n",
    "            self.layers.append(DenseLayer(prev_dim, hidden_dim))\n",
    "            self.layers.append(BatchNormalization(hidden_dim))\n",
    "            self.layers.append(ReLU())\n",
    "            self.layers.append(Dropout(dropout_rate))\n",
    "            prev_dim = hidden_dim\n",
    "        \n",
    "        # Adding final Dense layer\n",
    "        self.layers.append(DenseLayer(prev_dim, output_dim))\n",
    "        self.layers.append(Softmax())\n",
    "\n",
    "    def forward(self, X, training=True):\n",
    "        # Forward pass through all layers\n",
    "        for layer in self.layers:\n",
    "            if isinstance(layer, (Dropout,BatchNormalization)):\n",
    "                X = layer.forward(X, training)\n",
    "            else:\n",
    "                X = layer.forward(X)\n",
    "        return X\n",
    "\n",
    "    def backward(self, d_out, learning_rate):\n",
    "        # Backward pass through all layers in reverse order\n",
    "        for layer in reversed(self.layers):\n",
    "            if isinstance(layer, (DenseLayer, BatchNormalization)):\n",
    "                d_out = layer.backward(d_out, learning_rate)\n",
    "            elif isinstance(layer, (ReLU, Dropout, Softmax)):\n",
    "                d_out = layer.backward(d_out)\n",
    "\n",
    "    def update_params(self, adam_optimizer):\n",
    "        # Parameter and gradient dicts\n",
    "        params = {}\n",
    "        grads = {}\n",
    "        \n",
    "        for layer in self.layers:\n",
    "            if isinstance(layer, DenseLayer):\n",
    "                params[id(layer)] = [layer.weights,layer.bias]\n",
    "                grads[id(layer)] = [layer.d_weights,layer.d_bias]\n",
    "        \n",
    "        # Updating parameters using Adam optimizer\n",
    "        updated_params = adam_optimizer.update(params, grads)\n",
    "\n",
    "        # Updating the layers with the new parameters\n",
    "        for layer in self.layers:\n",
    "            if isinstance(layer, DenseLayer):\n",
    "                layer.weights = updated_params[id(layer)][0]\n",
    "                layer.bias = updated_params[id(layer)][1]\n"
   ]
  },
  {
   "cell_type": "code",
   "execution_count": 179,
   "metadata": {},
   "outputs": [],
   "source": [
    "from torchvision import datasets, transforms\n",
    "\n",
    "# Define transformation\n",
    "transform = transforms.ToTensor()\n",
    "\n",
    "# Load the training dataset\n",
    "train_dataset = datasets.FashionMNIST(root='./data', train=True, transform=transform, download=True)\n",
    "\n",
    "# Load the test dataset separately\n",
    "test_dataset = datasets.FashionMNIST(root='./data', train=False, transform=transform, download=True)"
   ]
  },
  {
   "cell_type": "code",
   "execution_count": 180,
   "metadata": {},
   "outputs": [],
   "source": [
    "import tqdm\n",
    "import numpy as np\n",
    "from torch.utils.data import DataLoader, random_split\n",
    "from sklearn.metrics import accuracy_score\n",
    "from sklearn.metrics import f1_score, accuracy_score, confusion_matrix\n",
    "\n",
    "\n",
    "class Model:\n",
    "    def __init__(self,input_dim,hidden_dims,output_dim,dropout_rate,learning_rate,batch_size,num_epochs):\n",
    "        # Hyperparameters\n",
    "        self.input_dim = input_dim \n",
    "        self.hidden_dims = hidden_dims\n",
    "        self.output_dim = output_dim \n",
    "        self.dropout_rate = dropout_rate\n",
    "        self.learning_rate = learning_rate\n",
    "        self.batch_size = batch_size \n",
    "        self.num_epochs = num_epochs\n",
    "\n",
    "        # Initialize the fnn\n",
    "        self.fnn = FeedForwardNeuralNetwork(self.input_dim, self.hidden_dims, self.output_dim, self.dropout_rate)\n",
    "        self.adam_optimizer = AdamOptimizer(self.learning_rate)\n",
    "\n",
    "    def fit(self,dataset,history):\n",
    "\n",
    "        # Split the dataset for training and validation\n",
    "        train_size = int(0.8 * len(dataset))  #!<-----------------------------------------------------------\n",
    "        val_size = len(dataset) - train_size\n",
    "        train_subset, val_subset = random_split(dataset, [train_size, val_size])\n",
    "\n",
    "        # Create DataLoaders for training and validation subsets\n",
    "        train_loader = DataLoader(train_subset, batch_size=self.batch_size, shuffle=True)\n",
    "        val_loader = DataLoader(val_subset, batch_size=self.batch_size, shuffle=False)\n",
    "\n",
    "        # Training loop\n",
    "        print(self.num_epochs)\n",
    "        for epoch in range(self.num_epochs):\n",
    "            epoch_loss = 0\n",
    "            correct = 0\n",
    "            total = 0\n",
    "\n",
    "            for images, labels in tqdm.tqdm(train_loader):\n",
    "                # Flatten images\n",
    "                images = images.view(-1, 28 * 28).numpy()\n",
    "                \n",
    "                # Forward pass\n",
    "                outputs = self.fnn.forward(images, training=True)\n",
    "                \n",
    "                # One-hot encoding for labels\n",
    "                one_hot_labels = np.eye(self.output_dim)[labels.numpy()]\n",
    "\n",
    "                # Compute loss (cross-entropy loss)\n",
    "                loss = -np.sum(one_hot_labels * np.log(outputs + 1e-8)) / len(labels)\n",
    "                epoch_loss += loss\n",
    "\n",
    "                # Backward pass\n",
    "                d_out = outputs - np.eye(self.output_dim)[labels.numpy()]\n",
    "                self.fnn.backward(d_out, self.learning_rate)\n",
    "\n",
    "                # Update parameters\n",
    "                self.fnn.update_params(self.adam_optimizer)\n",
    "\n",
    "                # Calculate accuracy\n",
    "                predictions = np.argmax(outputs, axis=1)\n",
    "                correct += (predictions == labels.numpy()).sum()\n",
    "                total += labels.size(0)\n",
    "\n",
    "            train_accuracy = correct / total\n",
    "            history['train_loss'].append(epoch_loss / len(train_loader))\n",
    "            history['train_acc'].append(train_accuracy)\n",
    "\n",
    "            # Display epoch results\n",
    "            print(\"total: \",total,\"correct: \",correct)\n",
    "            epoch_accuracy = correct / total\n",
    "            print(f'Epoch [{epoch+1}/{self.num_epochs}], Loss: {epoch_loss/ len(train_loader):.4f}, Accuracy: {epoch_accuracy:.4f}')\n",
    "\n",
    "\n",
    "            # Testing phase\n",
    "            all_predictions = []\n",
    "            all_true_labels = []\n",
    "\n",
    "            correct = 0\n",
    "            total = 0\n",
    "            epoch_loss = 0\n",
    "\n",
    "            for images, labels in val_loader:\n",
    "                # Flatten images\n",
    "                images = images.view(-1, 28 * 28).numpy()\n",
    "\n",
    "                # Forward pass (inference mode)\n",
    "                outputs = self.fnn.forward(images, training=False)\n",
    "                predictions = np.argmax(outputs, axis=1)\n",
    "\n",
    "                # One-hot encoding for labels\n",
    "                one_hot_labels = np.eye(self.output_dim)[labels.numpy()]\n",
    "\n",
    "                # Compute loss (cross-entropy loss)\n",
    "                loss = -np.sum(one_hot_labels * np.log(outputs + 1e-8)) / len(labels)\n",
    "                #print(len(labels))\n",
    "                epoch_loss += loss\n",
    "\n",
    "                # Collect results\n",
    "                all_predictions.extend(predictions)\n",
    "                all_true_labels.extend(labels.numpy())\n",
    "\n",
    "                # Calculate accuracy\n",
    "                correct += (predictions == labels.numpy()).sum()\n",
    "                total += labels.size(0)\n",
    "\n",
    "            # Calculate accuracy using sklearn\n",
    "            accuracy = accuracy_score(all_true_labels, all_predictions)\n",
    "            print(f'Validation Accuracy: {accuracy:.4f}')\n",
    "\n",
    "            val_accuracy = correct / total\n",
    "            val_f1 = f1_score(all_true_labels, all_predictions, average='macro')\n",
    "            val_loss = epoch_loss / len(val_loader)\n",
    "            history['val_loss'].append(val_loss)\n",
    "            print(f'Validation loss: {val_loss:.4f}')\n",
    "            history['val_acc'].append(val_accuracy)\n",
    "            history['val_f1'].append(val_f1)\n",
    "            print(f'Validation Macro F1: {val_f1:.4f}')\n",
    "\n",
    "        return self.fnn"
   ]
  },
  {
   "cell_type": "code",
   "execution_count": 181,
   "metadata": {},
   "outputs": [],
   "source": [
    "def Test(model,data):\n",
    "    all_predictions = []\n",
    "    all_labels = []\n",
    "    for images, labels in data:\n",
    "        # Flatten the images\n",
    "        images = images.view(images.size(0), -1).numpy()\n",
    "\n",
    "        # Forward pass through the loaded model\n",
    "        outputs = model.forward(images)\n",
    "\n",
    "        # Get the predicted class (highest probability)\n",
    "        predictions = np.argmax(outputs, axis=1)\n",
    "\n",
    "        # Collect predictions and true labels for accuracy computation\n",
    "        all_predictions.extend(predictions)\n",
    "        all_labels.extend(labels.numpy())\n",
    "\n",
    "    # Step 4: Evaluate the model\n",
    "    accuracy = accuracy_score(all_labels, all_predictions)\n",
    "    print(f\"Test Accuracy: {accuracy * 100:.2f}%\")"
   ]
  },
  {
   "cell_type": "code",
   "execution_count": 182,
   "metadata": {},
   "outputs": [
    {
     "name": "stdout",
     "output_type": "stream",
     "text": [
      "10\n"
     ]
    },
    {
     "name": "stderr",
     "output_type": "stream",
     "text": [
      "  0%|          | 0/750 [00:00<?, ?it/s]"
     ]
    },
    {
     "name": "stderr",
     "output_type": "stream",
     "text": [
      "100%|██████████| 750/750 [00:07<00:00, 95.02it/s] \n"
     ]
    },
    {
     "name": "stdout",
     "output_type": "stream",
     "text": [
      "total:  48000 correct:  36229\n",
      "Epoch [1/10], Loss: 0.8982, Accuracy: 0.7548\n",
      "Validation Accuracy: 0.8474\n",
      "Validation loss: 0.4716\n",
      "Validation Macro F1: 0.8460\n"
     ]
    },
    {
     "name": "stderr",
     "output_type": "stream",
     "text": [
      "100%|██████████| 750/750 [00:07<00:00, 94.65it/s] \n"
     ]
    },
    {
     "name": "stdout",
     "output_type": "stream",
     "text": [
      "total:  48000 correct:  39749\n",
      "Epoch [2/10], Loss: 0.5447, Accuracy: 0.8281\n",
      "Validation Accuracy: 0.8559\n",
      "Validation loss: 0.4277\n",
      "Validation Macro F1: 0.8553\n"
     ]
    },
    {
     "name": "stderr",
     "output_type": "stream",
     "text": [
      "100%|██████████| 750/750 [00:08<00:00, 87.54it/s] \n"
     ]
    },
    {
     "name": "stdout",
     "output_type": "stream",
     "text": [
      "total:  48000 correct:  40424\n",
      "Epoch [3/10], Loss: 0.5002, Accuracy: 0.8422\n",
      "Validation Accuracy: 0.8572\n",
      "Validation loss: 0.4186\n",
      "Validation Macro F1: 0.8528\n"
     ]
    },
    {
     "name": "stderr",
     "output_type": "stream",
     "text": [
      "100%|██████████| 750/750 [00:08<00:00, 88.59it/s] \n"
     ]
    },
    {
     "name": "stdout",
     "output_type": "stream",
     "text": [
      "total:  48000 correct:  40803\n",
      "Epoch [4/10], Loss: 0.4676, Accuracy: 0.8501\n",
      "Validation Accuracy: 0.8672\n",
      "Validation loss: 0.3934\n",
      "Validation Macro F1: 0.8650\n"
     ]
    },
    {
     "name": "stderr",
     "output_type": "stream",
     "text": [
      "100%|██████████| 750/750 [00:07<00:00, 97.49it/s] \n"
     ]
    },
    {
     "name": "stdout",
     "output_type": "stream",
     "text": [
      "total:  48000 correct:  41000\n",
      "Epoch [5/10], Loss: 0.4514, Accuracy: 0.8542\n",
      "Validation Accuracy: 0.8670\n",
      "Validation loss: 0.3809\n",
      "Validation Macro F1: 0.8679\n"
     ]
    },
    {
     "name": "stderr",
     "output_type": "stream",
     "text": [
      "100%|██████████| 750/750 [00:07<00:00, 97.78it/s] \n"
     ]
    },
    {
     "name": "stdout",
     "output_type": "stream",
     "text": [
      "total:  48000 correct:  41244\n",
      "Epoch [6/10], Loss: 0.4374, Accuracy: 0.8592\n",
      "Validation Accuracy: 0.8752\n",
      "Validation loss: 0.3596\n",
      "Validation Macro F1: 0.8741\n"
     ]
    },
    {
     "name": "stderr",
     "output_type": "stream",
     "text": [
      "100%|██████████| 750/750 [00:07<00:00, 98.47it/s] \n"
     ]
    },
    {
     "name": "stdout",
     "output_type": "stream",
     "text": [
      "total:  48000 correct:  41377\n",
      "Epoch [7/10], Loss: 0.4287, Accuracy: 0.8620\n",
      "Validation Accuracy: 0.8776\n",
      "Validation loss: 0.3572\n",
      "Validation Macro F1: 0.8765\n"
     ]
    },
    {
     "name": "stderr",
     "output_type": "stream",
     "text": [
      "100%|██████████| 750/750 [00:07<00:00, 95.75it/s] \n"
     ]
    },
    {
     "name": "stdout",
     "output_type": "stream",
     "text": [
      "total:  48000 correct:  41672\n",
      "Epoch [8/10], Loss: 0.4118, Accuracy: 0.8682\n",
      "Validation Accuracy: 0.8749\n",
      "Validation loss: 0.3635\n",
      "Validation Macro F1: 0.8730\n"
     ]
    },
    {
     "name": "stderr",
     "output_type": "stream",
     "text": [
      "100%|██████████| 750/750 [00:07<00:00, 99.34it/s] \n"
     ]
    },
    {
     "name": "stdout",
     "output_type": "stream",
     "text": [
      "total:  48000 correct:  41766\n",
      "Epoch [9/10], Loss: 0.4089, Accuracy: 0.8701\n",
      "Validation Accuracy: 0.8814\n",
      "Validation loss: 0.3564\n",
      "Validation Macro F1: 0.8795\n"
     ]
    },
    {
     "name": "stderr",
     "output_type": "stream",
     "text": [
      "100%|██████████| 750/750 [00:07<00:00, 93.95it/s] \n"
     ]
    },
    {
     "name": "stdout",
     "output_type": "stream",
     "text": [
      "total:  48000 correct:  41772\n",
      "Epoch [10/10], Loss: 0.4073, Accuracy: 0.8702\n",
      "Validation Accuracy: 0.8725\n",
      "Validation loss: 0.3822\n",
      "Validation Macro F1: 0.8723\n"
     ]
    }
   ],
   "source": [
    "input_dim = 28 * 28  # Image size (28x28)\n",
    "output_dim = 10  # Number of classes (0-9)\n",
    "dropout_rate = 0.2\n",
    "batch_size = 64\n",
    "num_epochs = 10\n",
    "\n",
    "hidden_dims = [64,32]  # Hidden layers\n",
    "learning_rate = 0.001\n",
    "\n",
    "history = {'train_loss': [], 'val_loss': [], 'train_acc': [], 'val_acc': [], 'val_f1': []}\n",
    "model1 = Model(input_dim,hidden_dims,output_dim,dropout_rate,learning_rate,batch_size,num_epochs)\n",
    "model = model1.fit(train_dataset,history)"
   ]
  },
  {
   "cell_type": "code",
   "execution_count": 183,
   "metadata": {},
   "outputs": [
    {
     "name": "stdout",
     "output_type": "stream",
     "text": [
      "Test Accuracy: 84.72%\n"
     ]
    }
   ],
   "source": [
    "# DataLoader for testing\n",
    "test_loader = DataLoader(test_dataset, batch_size=batch_size, shuffle=False)\n",
    "Test(model,test_loader)"
   ]
  },
  {
   "cell_type": "code",
   "execution_count": 184,
   "metadata": {},
   "outputs": [
    {
     "name": "stdout",
     "output_type": "stream",
     "text": [
      "{'train_loss': [0.8981508019185771, 0.5446612169951727, 0.5001593175779675, 0.46759666900998764, 0.4513614724763348, 0.4373648795178592, 0.42872363761121157, 0.4118104385284161, 0.40888252145017284, 0.4073223659913751], 'val_loss': [0.471643396851367, 0.4277096762492122, 0.41861094778791846, 0.39339718590177747, 0.3808682355377441, 0.35955926557190493, 0.3572374004180363, 0.36345010169967834, 0.3563599544099528, 0.38220553696201764], 'train_acc': [0.7547708333333333, 0.8281041666666666, 0.8421666666666666, 0.8500625, 0.8541666666666666, 0.85925, 0.8620208333333333, 0.8681666666666666, 0.870125, 0.87025], 'val_acc': [0.8474166666666667, 0.8559166666666667, 0.8571666666666666, 0.8671666666666666, 0.867, 0.87525, 0.8775833333333334, 0.8749166666666667, 0.8814166666666666, 0.8725], 'val_f1': [0.8459712008312351, 0.8552931433674009, 0.8527901312059691, 0.8649543658957869, 0.8678734727432591, 0.8741411743459138, 0.8765250790261483, 0.873044477438001, 0.8795439845883098, 0.8722863896483968]}\n"
     ]
    },
    {
     "data": {
      "image/png": "[encoded data removed]",
      "text/plain": [
       "<Figure size 400x400 with 1 Axes>"
      ]
     },
     "metadata": {},
     "output_type": "display_data"
    }
   ],
   "source": [
    "print(history)\n",
    "\n",
    "import matplotlib.pyplot as plt\n",
    "# Function to plot training history\n",
    "def plot_metrics(history, title=\"Training and Validation Metrics\"):\n",
    "    plt.figure(figsize=(4, 4))\n",
    "    for metric in ['train_loss', 'val_loss', 'train_acc', 'val_acc', 'val_f1']:\n",
    "        plt.plot(history[metric], label=metric)\n",
    "    plt.xlabel('Epoch')\n",
    "    plt.ylabel('Value')\n",
    "    plt.title(title)\n",
    "    plt.legend()\n",
    "    plt.show()\n",
    "\n",
    "plot_metrics(history, title=f\"Metrics for hidden_dims={hidden_dims}, learning_rate={learning_rate}\")"
   ]
  },
  {
   "cell_type": "code",
   "execution_count": 185,
   "metadata": {},
   "outputs": [
    {
     "data": {
      "text/plain": [
       "'\\nimport torch.AdamOptimizer\\nimport torch.nn as nn\\nimport torch.optim as optim\\nimport numpy as np\\nfrom torchvision import datasets, transforms\\nfrom torch.utils.data import DataLoader, random_split\\nfrom sklearn.metrics import f1_score, accuracy_score, confusion_matrix\\nimport matplotlib.pyplot as plt\\nimport tqdm\\n\\n# Split the dataset for training and validation\\ntrain_size = int(0.8 * len(train_dataset))\\nval_size = len(train_dataset) - train_size\\ntrain_subset, val_subset = random_split(train_dataset, [train_size, val_size])\\n\\n# Define DataLoaders\\nbatch_size = 64\\ntrain_loader = DataLoader(train_subset, batch_size=batch_size, shuffle=True)\\nval_loader = DataLoader(val_subset, batch_size=batch_size, shuffle=False)\\ntest_loader = DataLoader(test_dataset, batch_size=batch_size, shuffle=False)\\n\\n# Model parameters\\ninput_dim = 28 * 28  # Image size (28x28)\\nhidden_dims_options = [[128, 64], [64, 32], [32, 16]]  # Different hidden layer configurations\\noutput_dim = 10  # Number of classes\\ndropout_rate = 0.2\\nnum_epochs = 10\\nlearning_rates = [0.005, 0.001, 0.0005, 0.0001]\\n\\n# Define Feed-Forward Neural Network class\\nclass FeedForwardNeuralNetwork(nn.Module):\\n    def __init__(self, input_dim, hidden_dims, output_dim, dropout_rate):\\n        super(FeedForwardNeuralNetwork, self).__init__()\\n        layers = []\\n        current_dim = input_dim\\n        for h_dim in hidden_dims:\\n            layers.append(nn.Linear(current_dim, h_dim))\\n            layers.append(nn.ReLU())\\n            layers.append(nn.Dropout(dropout_rate))\\n            current_dim = h_dim\\n        layers.append(nn.Linear(current_dim, output_dim))\\n        self.model = nn.Sequential(*layers)\\n\\n    def forward(self, x):\\n        return self.model(x)\\n\\n# Training and Evaluation Function\\ndef train_and_evaluate(model, train_loader, val_loader, criterion, optimizer, num_epochs):\\n    history = {\\'train_loss\\': [], \\'val_loss\\': [], \\'train_acc\\': [], \\'val_acc\\': [], \\'val_f1\\': []}\\n\\n    for epoch in range(num_epochs):\\n        # Training phase\\n        model.train()\\n        train_loss, correct, total = 0, 0, 0\\n        for images, labels in tqdm.tqdm(train_loader):\\n            images = images.view(-1, input_dim)  # Flatten images\\n            labels = labels\\n            \\n            # Forward pass\\n            outputs = model(images)\\n            loss = criterion(outputs, labels)\\n            train_loss += loss.item()\\n\\n            # Backward pass and optimization\\n            optimizer.zero_grad()\\n            loss.backward()\\n            optimizer.step()\\n\\n            # Calculate accuracy\\n            _, predicted = torch.max(outputs.data, 1)\\n            total += labels.size(0)\\n            correct += (predicted == labels).sum().item()\\n\\n        train_accuracy = correct / total\\n        history[\\'train_loss\\'].append(train_loss / len(train_loader))\\n        history[\\'train_acc\\'].append(train_accuracy)\\n\\n        # Validation phase\\n        model.eval()\\n        val_loss, correct, total = 0, 0, 0\\n        all_predictions, all_labels = [], []\\n        with torch.no_grad():\\n            for images, labels in val_loader:\\n                images = images.view(-1, input_dim)\\n                labels = labels\\n\\n                # Forward pass\\n                outputs = model(images)\\n                loss = criterion(outputs, labels)\\n                val_loss += loss.item()\\n\\n                # Calculate accuracy\\n                _, predicted = torch.max(outputs.data, 1)\\n                total += labels.size(0)\\n                correct += (predicted == labels).sum().item()\\n                all_predictions.extend(predicted.cpu().numpy())\\n                all_labels.extend(labels.cpu().numpy())\\n\\n        val_accuracy = correct / total\\n        val_f1 = f1_score(all_labels, all_predictions, average=\\'macro\\')\\n        history[\\'val_loss\\'].append(val_loss / len(val_loader))\\n        history[\\'val_acc\\'].append(val_accuracy)\\n        history[\\'val_f1\\'].append(val_f1)\\n\\n        # Print metrics for each epoch\\n        print(f\\'Epoch [{epoch+1}/{num_epochs}], Train Loss: {train_loss:.4f}, Val Loss: {val_loss:.4f}, \\'\\n              f\\'Train Acc: {train_accuracy:.4f}, Val Acc: {val_accuracy:.4f}, Val F1: {val_f1:.4f}\\')\\n\\n    return history\\n\\nprint(history)\\n# Function to plot training history\\ndef plot_metrics(history, title=\"Training and Validation Metrics\"):\\n    plt.figure(figsize=(4, 4))\\n    for metric in [\\'train_loss\\', \\'val_loss\\', \\'train_acc\\', \\'val_acc\\', \\'val_f1\\']:\\n        plt.plot(history[metric], label=metric)\\n    plt.xlabel(\\'Epoch\\')\\n    plt.ylabel(\\'Value\\')\\n    plt.title(title)\\n    plt.legend()\\n    plt.show()\\n\\n# Test Function\\ndef test_model(model, test_loader):\\n    model.eval()\\n    all_predictions, all_labels = [], []\\n    with torch.no_grad():\\n        for images, labels in test_loader:\\n            images = images.view(-1, input_dim)\\n            outputs = model(images)\\n            _, predicted = torch.max(outputs.data, 1)\\n            all_predictions.extend(predicted.cpu().numpy())\\n            all_labels.extend(labels.cpu().numpy())\\n\\n    # Calculate accuracy and F1 score\\n    test_accuracy = accuracy_score(all_labels, all_predictions)\\n    test_f1 = f1_score(all_labels, all_predictions, average=\\'macro\\')\\n    print(f\\'Test Accuracy: {test_accuracy:.4f}, Test F1 Score: {test_f1:.4f}\\')\\n\\n    # Confusion Matrix\\n    print(\"Confusion Matrix:\\n\", confusion_matrix(all_labels, all_predictions))\\n\\n# Experiment with different configurations\\nbest_f1 = 0\\nbest_model = None\\ncriterion = nn.CrossEntropyLoss()\\n\\nfor lr in learning_rates:\\n    for hidden_dims in hidden_dims_options:\\n        # Initialize model, optimizer\\n        model = FeedForwardNeuralNetwork(input_dim, hidden_dims, output_dim, dropout_rate)\\n        optimizer = optim.Adam(model.parameters(), lr=lr)\\n        \\n        # Train and evaluate\\n        print(f\"\\nTraining model with hidden_dims={hidden_dims} and learning_rate={lr}\")\\n        history = train_and_evaluate(model, train_loader, val_loader, criterion, optimizer, num_epochs)\\n        \\n        # Plot metrics for this configuration\\n        plot_metrics(history, title=f\"Metrics for hidden_dims={hidden_dims}, learning_rate={lr}\")\\n        \\n        # Check if this model is the best based on validation F1\\n        max_val_f1 = max(history[\\'val_f1\\'])\\n        if max_val_f1 > best_f1:\\n            best_f1 = max_val_f1\\n            best_model = model\\n\\n# Test the best model\\nprint(\"\\nTesting the best model:\")\\ntest_model(best_model, test_loader)\\n'"
      ]
     },
     "execution_count": 185,
     "metadata": {},
     "output_type": "execute_result"
    }
   ],
   "source": [
    "\"\"\"\n",
    "import torch.AdamOptimizer\n",
    "import torch.nn as nn\n",
    "import torch.optim as optim\n",
    "import numpy as np\n",
    "from torchvision import datasets, transforms\n",
    "from torch.utils.data import DataLoader, random_split\n",
    "from sklearn.metrics import f1_score, accuracy_score, confusion_matrix\n",
    "import matplotlib.pyplot as plt\n",
    "import tqdm\n",
    "\n",
    "# Split the dataset for training and validation\n",
    "train_size = int(0.8 * len(train_dataset))\n",
    "val_size = len(train_dataset) - train_size\n",
    "train_subset, val_subset = random_split(train_dataset, [train_size, val_size])\n",
    "\n",
    "# Define DataLoaders\n",
    "batch_size = 64\n",
    "train_loader = DataLoader(train_subset, batch_size=batch_size, shuffle=True)\n",
    "val_loader = DataLoader(val_subset, batch_size=batch_size, shuffle=False)\n",
    "test_loader = DataLoader(test_dataset, batch_size=batch_size, shuffle=False)\n",
    "\n",
    "# Model parameters\n",
    "input_dim = 28 * 28  # Image size (28x28)\n",
    "hidden_dims_options = [[128, 64], [64, 32], [32, 16]]  # Different hidden layer configurations\n",
    "output_dim = 10  # Number of classes\n",
    "dropout_rate = 0.2\n",
    "num_epochs = 10\n",
    "learning_rates = [0.005, 0.001, 0.0005, 0.0001]\n",
    "\n",
    "# Define Feed-Forward Neural Network class\n",
    "class FeedForwardNeuralNetwork(nn.Module):\n",
    "    def __init__(self, input_dim, hidden_dims, output_dim, dropout_rate):\n",
    "        super(FeedForwardNeuralNetwork, self).__init__()\n",
    "        layers = []\n",
    "        current_dim = input_dim\n",
    "        for h_dim in hidden_dims:\n",
    "            layers.append(nn.Linear(current_dim, h_dim))\n",
    "            layers.append(nn.ReLU())\n",
    "            layers.append(nn.Dropout(dropout_rate))\n",
    "            current_dim = h_dim\n",
    "        layers.append(nn.Linear(current_dim, output_dim))\n",
    "        self.model = nn.Sequential(*layers)\n",
    "\n",
    "    def forward(self, x):\n",
    "        return self.model(x)\n",
    "\n",
    "# Training and Evaluation Function\n",
    "def train_and_evaluate(model, train_loader, val_loader, criterion, optimizer, num_epochs):\n",
    "    history = {'train_loss': [], 'val_loss': [], 'train_acc': [], 'val_acc': [], 'val_f1': []}\n",
    "\n",
    "    for epoch in range(num_epochs):\n",
    "        # Training phase\n",
    "        model.train()\n",
    "        train_loss, correct, total = 0, 0, 0\n",
    "        for images, labels in tqdm.tqdm(train_loader):\n",
    "            images = images.view(-1, input_dim)  # Flatten images\n",
    "            labels = labels\n",
    "            \n",
    "            # Forward pass\n",
    "            outputs = model(images)\n",
    "            loss = criterion(outputs, labels)\n",
    "            train_loss += loss.item()\n",
    "\n",
    "            # Backward pass and optimization\n",
    "            optimizer.zero_grad()\n",
    "            loss.backward()\n",
    "            optimizer.step()\n",
    "\n",
    "            # Calculate accuracy\n",
    "            _, predicted = torch.max(outputs.data, 1)\n",
    "            total += labels.size(0)\n",
    "            correct += (predicted == labels).sum().item()\n",
    "\n",
    "        train_accuracy = correct / total\n",
    "        history['train_loss'].append(train_loss / len(train_loader))\n",
    "        history['train_acc'].append(train_accuracy)\n",
    "\n",
    "        # Validation phase\n",
    "        model.eval()\n",
    "        val_loss, correct, total = 0, 0, 0\n",
    "        all_predictions, all_labels = [], []\n",
    "        with torch.no_grad():\n",
    "            for images, labels in val_loader:\n",
    "                images = images.view(-1, input_dim)\n",
    "                labels = labels\n",
    "\n",
    "                # Forward pass\n",
    "                outputs = model(images)\n",
    "                loss = criterion(outputs, labels)\n",
    "                val_loss += loss.item()\n",
    "\n",
    "                # Calculate accuracy\n",
    "                _, predicted = torch.max(outputs.data, 1)\n",
    "                total += labels.size(0)\n",
    "                correct += (predicted == labels).sum().item()\n",
    "                all_predictions.extend(predicted.cpu().numpy())\n",
    "                all_labels.extend(labels.cpu().numpy())\n",
    "\n",
    "        val_accuracy = correct / total\n",
    "        val_f1 = f1_score(all_labels, all_predictions, average='macro')\n",
    "        history['val_loss'].append(val_loss / len(val_loader))\n",
    "        history['val_acc'].append(val_accuracy)\n",
    "        history['val_f1'].append(val_f1)\n",
    "\n",
    "        # Print metrics for each epoch\n",
    "        print(f'Epoch [{epoch+1}/{num_epochs}], Train Loss: {train_loss:.4f}, Val Loss: {val_loss:.4f}, '\n",
    "              f'Train Acc: {train_accuracy:.4f}, Val Acc: {val_accuracy:.4f}, Val F1: {val_f1:.4f}')\n",
    "\n",
    "    return history\n",
    "\n",
    "print(history)\n",
    "# Function to plot training history\n",
    "def plot_metrics(history, title=\"Training and Validation Metrics\"):\n",
    "    plt.figure(figsize=(4, 4))\n",
    "    for metric in ['train_loss', 'val_loss', 'train_acc', 'val_acc', 'val_f1']:\n",
    "        plt.plot(history[metric], label=metric)\n",
    "    plt.xlabel('Epoch')\n",
    "    plt.ylabel('Value')\n",
    "    plt.title(title)\n",
    "    plt.legend()\n",
    "    plt.show()\n",
    "\n",
    "# Test Function\n",
    "def test_model(model, test_loader):\n",
    "    model.eval()\n",
    "    all_predictions, all_labels = [], []\n",
    "    with torch.no_grad():\n",
    "        for images, labels in test_loader:\n",
    "            images = images.view(-1, input_dim)\n",
    "            outputs = model(images)\n",
    "            _, predicted = torch.max(outputs.data, 1)\n",
    "            all_predictions.extend(predicted.cpu().numpy())\n",
    "            all_labels.extend(labels.cpu().numpy())\n",
    "\n",
    "    # Calculate accuracy and F1 score\n",
    "    test_accuracy = accuracy_score(all_labels, all_predictions)\n",
    "    test_f1 = f1_score(all_labels, all_predictions, average='macro')\n",
    "    print(f'Test Accuracy: {test_accuracy:.4f}, Test F1 Score: {test_f1:.4f}')\n",
    "\n",
    "    # Confusion Matrix\n",
    "    print(\"Confusion Matrix:\\n\", confusion_matrix(all_labels, all_predictions))\n",
    "\n",
    "# Experiment with different configurations\n",
    "best_f1 = 0\n",
    "best_model = None\n",
    "criterion = nn.CrossEntropyLoss()\n",
    "\n",
    "for lr in learning_rates:\n",
    "    for hidden_dims in hidden_dims_options:\n",
    "        # Initialize model, optimizer\n",
    "        model = FeedForwardNeuralNetwork(input_dim, hidden_dims, output_dim, dropout_rate)\n",
    "        optimizer = optim.Adam(model.parameters(), lr=lr)\n",
    "        \n",
    "        # Train and evaluate\n",
    "        print(f\"\\nTraining model with hidden_dims={hidden_dims} and learning_rate={lr}\")\n",
    "        history = train_and_evaluate(model, train_loader, val_loader, criterion, optimizer, num_epochs)\n",
    "        \n",
    "        # Plot metrics for this configuration\n",
    "        plot_metrics(history, title=f\"Metrics for hidden_dims={hidden_dims}, learning_rate={lr}\")\n",
    "        \n",
    "        # Check if this model is the best based on validation F1\n",
    "        max_val_f1 = max(history['val_f1'])\n",
    "        if max_val_f1 > best_f1:\n",
    "            best_f1 = max_val_f1\n",
    "            best_model = model\n",
    "\n",
    "# Test the best model\n",
    "print(\"\\nTesting the best model:\")\n",
    "test_model(best_model, test_loader)\n",
    "\"\"\""
   ]
  },
  {
   "cell_type": "code",
   "execution_count": 186,
   "metadata": {},
   "outputs": [
    {
     "name": "stdout",
     "output_type": "stream",
     "text": [
      "Model saved successfully!\n"
     ]
    }
   ],
   "source": [
    "import pickle\n",
    "\n",
    "# Save the trained model to a file\n",
    "with open('fashion_mnist_model.pkl', 'wb') as file:\n",
    "    pickle.dump(model, file)\n",
    "print(\"Model saved successfully!\")\n"
   ]
  },
  {
   "cell_type": "code",
   "execution_count": 187,
   "metadata": {},
   "outputs": [
    {
     "name": "stdout",
     "output_type": "stream",
     "text": [
      "Model loaded successfully!\n"
     ]
    }
   ],
   "source": [
    "# Load the model from the file\n",
    "with open('fashion_mnist_model.pkl', 'rb') as file:\n",
    "    loaded_model = pickle.load(file)\n",
    "print(\"Model loaded successfully!\")\n"
   ]
  },
  {
   "cell_type": "code",
   "execution_count": 188,
   "metadata": {},
   "outputs": [
    {
     "name": "stdout",
     "output_type": "stream",
     "text": [
      "Test Accuracy: 84.90%\n"
     ]
    }
   ],
   "source": [
    "Test(loaded_model,test_loader)"
   ]
  }
 ],
 "metadata": {
  "kernelspec": {
   "display_name": "Python 3",
   "language": "python",
   "name": "python3"
  },
  "language_info": {
   "codemirror_mode": {
    "name": "ipython",
    "version": 3
   },
   "file_extension": ".py",
   "mimetype": "text/x-python",
   "name": "python",
   "nbconvert_exporter": "python",
   "pygments_lexer": "ipython3",
   "version": "3.12.5"
  }
 },
 "nbformat": 4,
 "nbformat_minor": 2
}
